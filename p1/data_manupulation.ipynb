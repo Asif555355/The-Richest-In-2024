{
  "nbformat": 4,
  "nbformat_minor": 0,
  "metadata": {
    "colab": {
      "provenance": []
    },
    "kernelspec": {
      "name": "python3",
      "display_name": "Python 3"
    },
    "language_info": {
      "name": "python"
    }
  },
  "cells": [
    {
      "cell_type": "code",
      "source": [
        "%matplotlib inline"
      ],
      "metadata": {
        "id": "Q1i9ESc_7ls_"
      },
      "execution_count": null,
      "outputs": []
    },
    {
      "cell_type": "code",
      "execution_count": null,
      "metadata": {
        "id": "gXCLGOoX05Ul"
      },
      "outputs": [],
      "source": [
        "import  pandas as  pd\n",
        "import numpy as np\n",
        "import matplotlib.pyplot as plt\n",
        "import seaborn as sns"
      ]
    },
    {
      "cell_type": "code",
      "source": [
        "df=pd.read_csv(\"billionaires_data.csv\")\n"
      ],
      "metadata": {
        "id": "FhqgWcUy1OtG"
      },
      "execution_count": null,
      "outputs": []
    },
    {
      "cell_type": "code",
      "source": [
        "df.isnull().values.any()"
      ],
      "metadata": {
        "id": "08DL_2Ef1wJ4",
        "outputId": "6c7d9cd6-2306-4fe7-8296-0b3521d6dd96",
        "colab": {
          "base_uri": "https://localhost:8080/"
        }
      },
      "execution_count": null,
      "outputs": [
        {
          "output_type": "execute_result",
          "data": {
            "text/plain": [
              "True"
            ]
          },
          "metadata": {},
          "execution_count": 4
        }
      ]
    },
    {
      "cell_type": "code",
      "source": [
        "df.isnull().sum()"
      ],
      "metadata": {
        "id": "joAtQKr_2bo1",
        "outputId": "c5396892-c32d-46c0-f449-926147d955fe",
        "colab": {
          "base_uri": "https://localhost:8080/"
        }
      },
      "execution_count": null,
      "outputs": [
        {
          "output_type": "execute_result",
          "data": {
            "text/plain": [
              "Index         0\n",
              "Rank          0\n",
              "Name          0\n",
              "Net Worth     0\n",
              "Age          72\n",
              "Country       0\n",
              "Source        0\n",
              "Industry      0\n",
              "dtype: int64"
            ]
          },
          "metadata": {},
          "execution_count": 5
        }
      ]
    },
    {
      "cell_type": "code",
      "source": [
        "df['Age'].fillna((df['Age'].mean()), inplace=True)"
      ],
      "metadata": {
        "id": "zoyZP8ed4Tlq"
      },
      "execution_count": null,
      "outputs": []
    },
    {
      "cell_type": "code",
      "source": [
        "df.isnull().sum()"
      ],
      "metadata": {
        "id": "gTGqerGw6R4V",
        "outputId": "473d58a4-5aa8-4977-f731-ace8f1fdd84f",
        "colab": {
          "base_uri": "https://localhost:8080/"
        }
      },
      "execution_count": null,
      "outputs": [
        {
          "output_type": "execute_result",
          "data": {
            "text/plain": [
              "Index        0\n",
              "Rank         0\n",
              "Name         0\n",
              "Net Worth    0\n",
              "Age          0\n",
              "Country      0\n",
              "Source       0\n",
              "Industry     0\n",
              "dtype: int64"
            ]
          },
          "metadata": {},
          "execution_count": 7
        }
      ]
    },
    {
      "cell_type": "code",
      "source": [
        "sns.relplot(x=\"Rank\",y=\"Net Worth\",data=df,height=10,aspect=2,size=\"Age\")"
      ],
      "metadata": {
        "id": "f7BUzDUb85zI"
      },
      "execution_count": null,
      "outputs": []
    },
    {
      "cell_type": "code",
      "source": [
        "plt.rcParams[\"figure.figsize\"] = (20,10)\n",
        "country_cnt = df['Country'].value_counts().to_dict()\n",
        "countries = list(country_cnt.keys())\n",
        "cnt = list(country_cnt.values())\n",
        "\n",
        "ax = sns.barplot(x=countries,y=cnt)\n",
        "ax.set_title(\"Country Presence\")\n",
        "ax.set_xticklabels(ax.get_xticklabels(), rotation=90);\n",
        "ax.set_xticklabels(ax.get_xticklabels(), rotation=90);"
      ],
      "metadata": {
        "id": "Vn5IMad8BE0v"
      },
      "execution_count": null,
      "outputs": []
    },
    {
      "cell_type": "code",
      "source": [
        "plt.rcParams[\"figure.figsize\"] = (20,10)\n",
        "Industry_cnt = df['Industry'].value_counts().to_dict()\n",
        "Industries = list(Industry_cnt.keys())\n",
        "cnt = list(Industry_cnt.values())\n",
        "\n",
        "ax = sns.barplot(x=Industries,y=cnt)\n",
        "ax.set_title(\"Industry Presence\")\n",
        "ax.set_xticklabels(ax.get_xticklabels(), rotation=90);\n",
        "ax.set_xticklabels(ax.get_xticklabels(), rotation=90);"
      ],
      "metadata": {
        "id": "m8mUMeArCYFv"
      },
      "execution_count": null,
      "outputs": []
    },
    {
      "cell_type": "code",
      "source": [
        "plt.rcParams[\"figure.figsize\"] = (20,10)\n",
        "Industry_cnt = df['Industry'].value_counts().to_dict()\n",
        "Industries = list(Industry_cnt.keys())\n",
        "cnt = list(Industry_cnt.values())\n",
        "\n",
        "ax = sns.barplot(x=Industries,y=cnt)\n",
        "ax.set_title(\"Industry Presence\")\n",
        "ax.set_xticklabels(ax.get_xticklabels(), rotation=90);\n",
        "ax.set_xticklabels(ax.get_xticklabels(), rotation=90);"
      ],
      "metadata": {
        "id": "UzVBAXXlV0ZO"
      },
      "execution_count": null,
      "outputs": []
    }
  ]
}